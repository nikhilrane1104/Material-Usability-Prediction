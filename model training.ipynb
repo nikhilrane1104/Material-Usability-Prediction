{
 "cells": [
  {
   "cell_type": "code",
   "execution_count": 1,
   "id": "6654c6b3",
   "metadata": {
    "_cell_guid": "b1076dfc-b9ad-4769-8c92-a6c4dae69d19",
    "_uuid": "8f2839f25d086af736a60e9eeb907d3b93b6e0e5",
    "execution": {
     "iopub.execute_input": "2024-09-20T08:11:42.597241Z",
     "iopub.status.busy": "2024-09-20T08:11:42.596793Z",
     "iopub.status.idle": "2024-09-20T08:11:43.068615Z",
     "shell.execute_reply": "2024-09-20T08:11:43.067268Z"
    },
    "papermill": {
     "duration": 0.492326,
     "end_time": "2024-09-20T08:11:43.071445",
     "exception": false,
     "start_time": "2024-09-20T08:11:42.579119",
     "status": "completed"
    },
    "tags": []
   },
   "outputs": [
    {
     "name": "stdout",
     "output_type": "stream",
     "text": [
      "/kaggle/input/material.csv\n",
      "/kaggle/input/Decision Tree.py\n",
      "/kaggle/input/Data.csv\n",
      "/kaggle/input/decision_tree.png\n"
     ]
    }
   ],
   "source": [
    "import numpy as np # linear algebra\n",
    "import pandas as pd # data processing, CSV file I/O (e.g. pd.read_csv)\n",
    "\n",
    "import os\n",
    "for dirname, _, filenames in os.walk('/kaggle/input'):\n",
    "    for filename in filenames:\n",
    "        print(os.path.join(dirname, filename))"
   ]
  },
  {
   "cell_type": "markdown",
   "id": "7efc443f",
   "metadata": {
    "papermill": {
     "duration": 0.01358,
     "end_time": "2024-09-20T08:11:43.098686",
     "exception": false,
     "start_time": "2024-09-20T08:11:43.085106",
     "status": "completed"
    },
    "tags": []
   },
   "source": [
    "# Step 1. Explore the dataset\n",
    "\n",
    "*  Use Python and libraries like Pandas to load the dataset into a DataFrame.\n",
    "*  Look at the first few rows, check the column names, and get a basic understanding of the data structure."
   ]
  },
  {
   "cell_type": "code",
   "execution_count": 2,
   "id": "e81cefd7",
   "metadata": {
    "execution": {
     "iopub.execute_input": "2024-09-20T08:11:43.128251Z",
     "iopub.status.busy": "2024-09-20T08:11:43.126953Z",
     "iopub.status.idle": "2024-09-20T08:11:43.172718Z",
     "shell.execute_reply": "2024-09-20T08:11:43.171289Z"
    },
    "papermill": {
     "duration": 0.06338,
     "end_time": "2024-09-20T08:11:43.175547",
     "exception": false,
     "start_time": "2024-09-20T08:11:43.112167",
     "status": "completed"
    },
    "tags": []
   },
   "outputs": [
    {
     "name": "stdout",
     "output_type": "stream",
     "text": [
      "                         Material   Su   Sy       E      G   mu    Ro   Use\n",
      "0   ANSI Steel SAE 1015 as-rolled  421  314  207000  79000  0.3  7860  True\n",
      "1  ANSI Steel SAE 1015 normalized  424  324  207000  79000  0.3  7860  True\n",
      "2    ANSI Steel SAE 1015 annealed  386  284  207000  79000  0.3  7860  True\n",
      "3   ANSI Steel SAE 1020 as-rolled  448  331  207000  79000  0.3  7860  True\n",
      "4  ANSI Steel SAE 1020 normalized  441  346  207000  79000  0.3  7860  True\n"
     ]
    }
   ],
   "source": [
    "import pandas as pd\n",
    "\n",
    "data = pd.read_csv('/kaggle/input/material.csv')\n",
    "\n",
    "# Display the first few rows of the dataset\n",
    "print(data.head())\n",
    "# [ultimate_tensile_strength, yield_strength, Elastic_Modulus, Sheer_Modulus, Poisson's Ratio, Density]\n",
    "#features = ['Su', 'Sy', 'E', 'G', 'mu', 'Ro']"
   ]
  },
  {
   "cell_type": "markdown",
   "id": "9d88ce2c",
   "metadata": {
    "papermill": {
     "duration": 0.013048,
     "end_time": "2024-09-20T08:11:43.202139",
     "exception": false,
     "start_time": "2024-09-20T08:11:43.189091",
     "status": "completed"
    },
    "tags": []
   },
   "source": [
    "# Step 2: Data Cleaning and Preprocessing\n",
    "Before you can analyze or model the data, it’s important to clean and preprocess it. Here are the tasks you should focus on:\n",
    "* Identify and handle any missing values in the dataset.\n",
    "* Ensure that each column has the correct data type (e.g., numerical, categorical).\n",
    "* Check for and remove any duplicate rows.\n",
    "* If necessary, normalize or standardize the numerical data to ensure consistency."
   ]
  },
  {
   "cell_type": "code",
   "execution_count": 3,
   "id": "a6f9f898",
   "metadata": {
    "execution": {
     "iopub.execute_input": "2024-09-20T08:11:43.231369Z",
     "iopub.status.busy": "2024-09-20T08:11:43.230899Z",
     "iopub.status.idle": "2024-09-20T08:11:43.241497Z",
     "shell.execute_reply": "2024-09-20T08:11:43.240254Z"
    },
    "papermill": {
     "duration": 0.028342,
     "end_time": "2024-09-20T08:11:43.244244",
     "exception": false,
     "start_time": "2024-09-20T08:11:43.215902",
     "status": "completed"
    },
    "tags": []
   },
   "outputs": [
    {
     "name": "stdout",
     "output_type": "stream",
     "text": [
      "Material    0\n",
      "Su          0\n",
      "Sy          0\n",
      "E           0\n",
      "G           0\n",
      "mu          0\n",
      "Ro          0\n",
      "Use         0\n",
      "dtype: int64\n"
     ]
    }
   ],
   "source": [
    "# Check for missing values\n",
    "print(data.isnull().sum())"
   ]
  },
  {
   "cell_type": "code",
   "execution_count": 4,
   "id": "ddc2f6fd",
   "metadata": {
    "execution": {
     "iopub.execute_input": "2024-09-20T08:11:43.274287Z",
     "iopub.status.busy": "2024-09-20T08:11:43.273227Z",
     "iopub.status.idle": "2024-09-20T08:11:43.296627Z",
     "shell.execute_reply": "2024-09-20T08:11:43.295247Z"
    },
    "papermill": {
     "duration": 0.041464,
     "end_time": "2024-09-20T08:11:43.299310",
     "exception": false,
     "start_time": "2024-09-20T08:11:43.257846",
     "status": "completed"
    },
    "tags": []
   },
   "outputs": [
    {
     "name": "stdout",
     "output_type": "stream",
     "text": [
      "                         Material   Su   Sy       E      G   mu    Ro   Use\n",
      "0   ANSI Steel SAE 1015 as-rolled  421  314  207000  79000  0.3  7860  True\n",
      "1  ANSI Steel SAE 1015 normalized  424  324  207000  79000  0.3  7860  True\n",
      "2    ANSI Steel SAE 1015 annealed  386  284  207000  79000  0.3  7860  True\n",
      "3   ANSI Steel SAE 1020 as-rolled  448  331  207000  79000  0.3  7860  True\n",
      "4  ANSI Steel SAE 1020 normalized  441  346  207000  79000  0.3  7860  True\n"
     ]
    }
   ],
   "source": [
    "# Discard rows where label 'Use' is missing\n",
    "data = data.dropna(subset=['Use'])\n",
    "\n",
    "# Fill missing values in the numerical columns (assuming they are in between)\n",
    "numerical_columns = data.columns[1:-1]\n",
    "data[numerical_columns] = data[numerical_columns].fillna(data[numerical_columns].mean())\n",
    "\n",
    "# Display the cleaned data\n",
    "print(data.head())"
   ]
  },
  {
   "cell_type": "code",
   "execution_count": 5,
   "id": "1e7cd6a0",
   "metadata": {
    "execution": {
     "iopub.execute_input": "2024-09-20T08:11:43.327977Z",
     "iopub.status.busy": "2024-09-20T08:11:43.327560Z",
     "iopub.status.idle": "2024-09-20T08:11:43.343455Z",
     "shell.execute_reply": "2024-09-20T08:11:43.342240Z"
    },
    "papermill": {
     "duration": 0.033472,
     "end_time": "2024-09-20T08:11:43.346249",
     "exception": false,
     "start_time": "2024-09-20T08:11:43.312777",
     "status": "completed"
    },
    "tags": []
   },
   "outputs": [],
   "source": [
    "# Remove duplicates\n",
    "data.drop_duplicates(inplace=True)"
   ]
  },
  {
   "cell_type": "markdown",
   "id": "588e1faf",
   "metadata": {
    "papermill": {
     "duration": 0.013584,
     "end_time": "2024-09-20T08:11:43.373775",
     "exception": false,
     "start_time": "2024-09-20T08:11:43.360191",
     "status": "completed"
    },
    "tags": []
   },
   "source": [
    "# Step 3: Exploratory Data Analysis\n",
    "understand the underlying patterns, relationships, and distributions in your data. Some options are:\n",
    "\n",
    "* Summary Statistics: Get a quick overview of your data.\n",
    "* Visualizations: Use plots to visualize distributions and relationships.\n",
    "* Correlation Analysis: Identify relationships between features."
   ]
  },
  {
   "cell_type": "code",
   "execution_count": 6,
   "id": "9799fc33",
   "metadata": {
    "execution": {
     "iopub.execute_input": "2024-09-20T08:11:43.403246Z",
     "iopub.status.busy": "2024-09-20T08:11:43.402775Z",
     "iopub.status.idle": "2024-09-20T08:11:43.434522Z",
     "shell.execute_reply": "2024-09-20T08:11:43.433241Z"
    },
    "papermill": {
     "duration": 0.049678,
     "end_time": "2024-09-20T08:11:43.437426",
     "exception": false,
     "start_time": "2024-09-20T08:11:43.387748",
     "status": "completed"
    },
    "tags": []
   },
   "outputs": [
    {
     "name": "stdout",
     "output_type": "stream",
     "text": [
      "                Su           Sy              E              G           mu  \\\n",
      "count  1548.000000  1548.000000    1548.000000    1548.000000  1548.000000   \n",
      "mean    572.618217   387.105943  164464.470284   85613.307494     0.302984   \n",
      "std     327.214677   289.794398   56168.339682  125488.397355     0.024621   \n",
      "min      69.000000    28.000000   73000.000000   26000.000000     0.200000   \n",
      "25%     340.000000   205.000000  105000.000000   40000.000000     0.300000   \n",
      "50%     500.000000   305.000000  206000.000000   79000.000000     0.300000   \n",
      "75%     705.000000   470.000000  206000.000000   80000.000000     0.320000   \n",
      "max    2220.000000  2048.000000  219000.000000  769000.000000     0.350000   \n",
      "\n",
      "                Ro  \n",
      "count  1548.000000  \n",
      "mean   6927.439922  \n",
      "std    2117.374925  \n",
      "min    1750.000000  \n",
      "25%    7160.000000  \n",
      "50%    7860.000000  \n",
      "75%    7860.000000  \n",
      "max    8930.000000  \n",
      "Material\n",
      "JIS Grey cast iron                       5\n",
      "ISO Grey cast iron                       5\n",
      "BS Grey cast iron                        5\n",
      "NF Grey cast iron                        5\n",
      "BS Nodular cast iron                     4\n",
      "                                        ..\n",
      "ANSI Aluminum Alloy 5083-H321 Wrought    1\n",
      "ANSI Aluminum Alloy 5083-H116 Wrought    1\n",
      "ANSI Aluminum Alloy 5083-O Wrought       1\n",
      "ANSI Aluminum Alloy 5056-H38 Wrought     1\n",
      "DIN DIN Ck40 heat treated                1\n",
      "Name: count, Length: 1460, dtype: int64\n",
      "Use\n",
      "False    1413\n",
      "True      135\n",
      "Name: count, dtype: int64\n"
     ]
    }
   ],
   "source": [
    "# Summary statistics\n",
    "print(data.describe())\n",
    "\n",
    "# Summary of categorical columns\n",
    "print(data['Material'].value_counts())\n",
    "print(data['Use'].value_counts())"
   ]
  },
  {
   "cell_type": "markdown",
   "id": "7e6f8b59",
   "metadata": {
    "papermill": {
     "duration": 0.013983,
     "end_time": "2024-09-20T08:11:43.465378",
     "exception": false,
     "start_time": "2024-09-20T08:11:43.451395",
     "status": "completed"
    },
    "tags": []
   },
   "source": [
    "# Visualization"
   ]
  },
  {
   "cell_type": "code",
   "execution_count": 7,
   "id": "ba00e30f",
   "metadata": {
    "execution": {
     "iopub.execute_input": "2024-09-20T08:11:43.494857Z",
     "iopub.status.busy": "2024-09-20T08:11:43.494453Z",
     "iopub.status.idle": "2024-09-20T08:11:48.348679Z",
     "shell.execute_reply": "2024-09-20T08:11:48.347434Z"
    },
    "papermill": {
     "duration": 4.872214,
     "end_time": "2024-09-20T08:11:48.351319",
     "exception": false,
     "start_time": "2024-09-20T08:11:43.479105",
     "status": "completed"
    },
    "tags": []
   },
   "outputs": [
    {
     "name": "stderr",
     "output_type": "stream",
     "text": [
      "/opt/conda/lib/python3.10/site-packages/seaborn/_oldcore.py:1119: FutureWarning: use_inf_as_na option is deprecated and will be removed in a future version. Convert inf values to NaN before operating instead.\n",
      "  with pd.option_context('mode.use_inf_as_na', True):\n"
     ]
    },
    {
     "data": {
      "image/png": "[encoded data removed]",
      "text/plain": [
       "<Figure size 800x400 with 1 Axes>"
      ]
     },
     "metadata": {},
     "output_type": "display_data"
    },
    {
     "name": "stderr",
     "output_type": "stream",
     "text": [
      "/opt/conda/lib/python3.10/site-packages/seaborn/_oldcore.py:1119: FutureWarning: use_inf_as_na option is deprecated and will be removed in a future version. Convert inf values to NaN before operating instead.\n",
      "  with pd.option_context('mode.use_inf_as_na', True):\n"
     ]
    },
    {
     "data": {
      "image/png": "[encoded data removed]",
      "text/plain": [
       "<Figure size 800x400 with 1 Axes>"
      ]
     },
     "metadata": {},
     "output_type": "display_data"
    },
    {
     "name": "stderr",
     "output_type": "stream",
     "text": [
      "/opt/conda/lib/python3.10/site-packages/seaborn/_oldcore.py:1119: FutureWarning: use_inf_as_na option is deprecated and will be removed in a future version. Convert inf values to NaN before operating instead.\n",
      "  with pd.option_context('mode.use_inf_as_na', True):\n"
     ]
    },
    {
     "data": {
      "image/png": "[encoded data removed]",
      "text/plain": [
       "<Figure size 800x400 with 1 Axes>"
      ]
     },
     "metadata": {},
     "output_type": "display_data"
    },
    {
     "name": "stderr",
     "output_type": "stream",
     "text": [
      "/opt/conda/lib/python3.10/site-packages/seaborn/_oldcore.py:1119: FutureWarning: use_inf_as_na option is deprecated and will be removed in a future version. Convert inf values to NaN before operating instead.\n",
      "  with pd.option_context('mode.use_inf_as_na', True):\n"
     ]
    },
    {
     "data": {
      "image/png": "[encoded data removed]",
      "text/plain": [
       "<Figure size 800x400 with 1 Axes>"
      ]
     },
     "metadata": {},
     "output_type": "display_data"
    },
    {
     "name": "stderr",
     "output_type": "stream",
     "text": [
      "/opt/conda/lib/python3.10/site-packages/seaborn/_oldcore.py:1119: FutureWarning: use_inf_as_na option is deprecated and will be removed in a future version. Convert inf values to NaN before operating instead.\n",
      "  with pd.option_context('mode.use_inf_as_na', True):\n"
     ]
    },
    {
     "data": {
      "image/png": "[encoded data removed]",
      "text/plain": [
       "<Figure size 800x400 with 1 Axes>"
      ]
     },
     "metadata": {},
     "output_type": "display_data"
    },
    {
     "name": "stderr",
     "output_type": "stream",
     "text": [
      "/opt/conda/lib/python3.10/site-packages/seaborn/_oldcore.py:1119: FutureWarning: use_inf_as_na option is deprecated and will be removed in a future version. Convert inf values to NaN before operating instead.\n",
      "  with pd.option_context('mode.use_inf_as_na', True):\n"
     ]
    },
    {
     "data": {
      "image/png": "[encoded data removed]",
      "text/plain": [
       "<Figure size 800x400 with 1 Axes>"
      ]
     },
     "metadata": {},
     "output_type": "display_data"
    },
    {
     "name": "stderr",
     "output_type": "stream",
     "text": [
      "/opt/conda/lib/python3.10/site-packages/seaborn/_oldcore.py:1119: FutureWarning: use_inf_as_na option is deprecated and will be removed in a future version. Convert inf values to NaN before operating instead.\n",
      "  with pd.option_context('mode.use_inf_as_na', True):\n",
      "/opt/conda/lib/python3.10/site-packages/seaborn/_stats/counting.py:137: RuntimeWarning: Converting input from bool to <class 'numpy.uint8'> for compatibility.\n",
      "  bin_edges = np.histogram_bin_edges(vals, bins, binrange, weight)\n",
      "/opt/conda/lib/python3.10/site-packages/seaborn/_stats/counting.py:176: RuntimeWarning: Converting input from bool to <class 'numpy.uint8'> for compatibility.\n",
      "  hist, edges = np.histogram(vals, **bin_kws, weights=weights, density=density)\n"
     ]
    },
    {
     "data": {
      "image/png": "[encoded data removed]",
      "text/plain": [
       "<Figure size 800x400 with 1 Axes>"
      ]
     },
     "metadata": {},
     "output_type": "display_data"
    }
   ],
   "source": [
    "import matplotlib.pyplot as plt\n",
    "import seaborn as sns\n",
    "\n",
    "# Distribution of numerical features\n",
    "numerical_columns = data.columns[1:]\n",
    "for column in numerical_columns:\n",
    "    plt.figure(figsize=(8, 4))\n",
    "    sns.histplot(data[column], kde=True)\n",
    "    plt.title(f'Distribution of {column}')\n",
    "    plt.show()\n",
    "    \n",
    "# [ultimate_tensile_strength, yield_strength, Elastic_Modulus, Sheer_Modulus, Poisson's Ratio, Density]\n",
    "#features = ['Su', 'Sy', 'E', 'G', 'mu', 'Ro']"
   ]
  },
  {
   "cell_type": "code",
   "execution_count": 8,
   "id": "ef024c7a",
   "metadata": {
    "execution": {
     "iopub.execute_input": "2024-09-20T08:11:48.390779Z",
     "iopub.status.busy": "2024-09-20T08:11:48.389748Z",
     "iopub.status.idle": "2024-09-20T08:11:49.026709Z",
     "shell.execute_reply": "2024-09-20T08:11:49.025416Z"
    },
    "papermill": {
     "duration": 0.659303,
     "end_time": "2024-09-20T08:11:49.029521",
     "exception": false,
     "start_time": "2024-09-20T08:11:48.370218",
     "status": "completed"
    },
    "tags": []
   },
   "outputs": [
    {
     "data": {
      "image/png": "[encoded data removed]",
      "text/plain": [
       "<Figure size 1000x800 with 2 Axes>"
      ]
     },
     "metadata": {},
     "output_type": "display_data"
    }
   ],
   "source": [
    "# Correlation heatmap\n",
    "plt.figure(figsize=(10, 8))\n",
    "sns.heatmap(data[numerical_columns].corr(), annot=True, cmap='coolwarm')\n",
    "plt.title('Correlation Heatmap')\n",
    "plt.show()"
   ]
  },
  {
   "cell_type": "markdown",
   "id": "28f33cdb",
   "metadata": {
    "papermill": {
     "duration": 0.019147,
     "end_time": "2024-09-20T08:11:49.067989",
     "exception": false,
     "start_time": "2024-09-20T08:11:49.048842",
     "status": "completed"
    },
    "tags": []
   },
   "source": [
    "# Step 4: Feature Selection and Engineering\n",
    "\n",
    "Before moving on to Machine learning, it's important to identify the relevant features that will be most useful for your model. The 2 key tasks here are \n",
    "1. **Feature Selection**: Identify the most relevant features for your machine learning task.\n",
    "2. **Feature Engineering**: Create new features that might be useful for the model."
   ]
  },
  {
   "cell_type": "code",
   "execution_count": 9,
   "id": "7ced5b61",
   "metadata": {
    "execution": {
     "iopub.execute_input": "2024-09-20T08:11:49.108323Z",
     "iopub.status.busy": "2024-09-20T08:11:49.107857Z",
     "iopub.status.idle": "2024-09-20T08:11:49.124565Z",
     "shell.execute_reply": "2024-09-20T08:11:49.123361Z"
    },
    "papermill": {
     "duration": 0.040023,
     "end_time": "2024-09-20T08:11:49.127360",
     "exception": false,
     "start_time": "2024-09-20T08:11:49.087337",
     "status": "completed"
    },
    "tags": []
   },
   "outputs": [
    {
     "name": "stdout",
     "output_type": "stream",
     "text": [
      "           Su        Sy         E         G        mu        Ro       Use\n",
      "Su   1.000000  0.957355  0.594539  0.254560 -0.239649  0.407968 -0.108608\n",
      "Sy   0.957355  1.000000  0.473113  0.179317 -0.190340  0.274133 -0.089184\n",
      "E    0.594539  0.473113  1.000000  0.279714 -0.446784  0.716698  0.225466\n",
      "G    0.254560  0.179317  0.279714  1.000000 -0.108715  0.222955 -0.014871\n",
      "mu  -0.239649 -0.190340 -0.446784 -0.108715  1.000000 -0.400145 -0.055154\n",
      "Ro   0.407968  0.274133  0.716698  0.222955 -0.400145  1.000000  0.132557\n",
      "Use -0.108608 -0.089184  0.225466 -0.014871 -0.055154  0.132557  1.000000\n",
      "\n",
      "Use    1.000000\n",
      "E      0.225466\n",
      "Ro     0.132557\n",
      "G     -0.014871\n",
      "mu    -0.055154\n",
      "Sy    -0.089184\n",
      "Su    -0.108608\n",
      "Name: Use, dtype: float64\n"
     ]
    }
   ],
   "source": [
    "# Option 1. Use Data Corelation\n",
    "# [ultimate_tensile_strength, yield_strength, Elastic_Modulus, Sheer_Modulus, Poisson's Ratio, Density]\n",
    "#features = ['Su', 'Sy', 'E', 'G', 'mu', 'Ro']\n",
    "\n",
    "# Correlation matrix to identify relevant features\n",
    "correlation_matrix = data[numerical_columns].corr()\n",
    "print(correlation_matrix)\n",
    "print()\n",
    "print(correlation_matrix['Use'].sort_values(ascending=False))"
   ]
  },
  {
   "cell_type": "code",
   "execution_count": 10,
   "id": "f291ea39",
   "metadata": {
    "execution": {
     "iopub.execute_input": "2024-09-20T08:11:49.168518Z",
     "iopub.status.busy": "2024-09-20T08:11:49.168035Z",
     "iopub.status.idle": "2024-09-20T08:11:49.704581Z",
     "shell.execute_reply": "2024-09-20T08:11:49.703249Z"
    },
    "papermill": {
     "duration": 0.560472,
     "end_time": "2024-09-20T08:11:49.707401",
     "exception": false,
     "start_time": "2024-09-20T08:11:49.146929",
     "status": "completed"
    },
    "tags": []
   },
   "outputs": [
    {
     "name": "stdout",
     "output_type": "stream",
     "text": [
      "  Feature    F Score       p-value\n",
      "0      Su  18.453858  1.849161e-05\n",
      "1      Sy  12.395149  4.429434e-04\n",
      "2       E  82.799743  2.718345e-19\n",
      "3       G   0.341981  5.587736e-01\n",
      "4      mu   4.717209  3.001375e-02\n",
      "5      Ro  27.651148  1.656085e-07\n",
      "6     Use        inf  0.000000e+00\n",
      "\n",
      "  Feature    Chi2 Score        p-value\n",
      "0      Su  3.412048e+03   0.000000e+00\n",
      "1      Sy  2.669406e+03   0.000000e+00\n",
      "2       E  1.508560e+06   0.000000e+00\n",
      "3       G  6.292918e+04   0.000000e+00\n",
      "4      mu  9.415594e-03   9.226994e-01\n",
      "5      Ro  1.759210e+04   0.000000e+00\n",
      "6     Use  1.413000e+03  3.144204e-309\n"
     ]
    },
    {
     "name": "stderr",
     "output_type": "stream",
     "text": [
      "/opt/conda/lib/python3.10/site-packages/sklearn/feature_selection/_univariate_selection.py:113: RuntimeWarning: divide by zero encountered in divide\n",
      "  f = msb / msw\n"
     ]
    }
   ],
   "source": [
    "# Option 2. Statistical tests like Chi-Square, Anova, etc \n",
    "X = data[numerical_columns]\n",
    "y = data['Use']\n",
    "\n",
    "\n",
    "\n",
    "#ANOVA test\n",
    "from sklearn.feature_selection import f_classif\n",
    "\n",
    "f_scores, p_values = f_classif(X, y)\n",
    "f_df = pd.DataFrame({'Feature': X.columns, 'F Score': f_scores, 'p-value': p_values})\n",
    "print(f_df)\n",
    "print()\n",
    "\n",
    "\n",
    "from sklearn.feature_selection import chi2\n",
    "from sklearn.feature_selection import SelectKBest\n",
    "\n",
    "# Assuming X is your feature matrix and y is your target vector\n",
    "chi2_scores, p_values = chi2(X, y)\n",
    "chi2_df = pd.DataFrame({'Feature': X.columns, 'Chi2 Score': chi2_scores, 'p-value': p_values})\n",
    "print(chi2_df)"
   ]
  },
  {
   "cell_type": "markdown",
   "id": "756625c9",
   "metadata": {
    "papermill": {
     "duration": 0.019345,
     "end_time": "2024-09-20T08:11:49.746394",
     "exception": false,
     "start_time": "2024-09-20T08:11:49.727049",
     "status": "completed"
    },
    "tags": []
   },
   "source": [
    "# Feature Engineering"
   ]
  },
  {
   "cell_type": "code",
   "execution_count": 11,
   "id": "0cb3bb7a",
   "metadata": {
    "execution": {
     "iopub.execute_input": "2024-09-20T08:11:49.787213Z",
     "iopub.status.busy": "2024-09-20T08:11:49.786712Z",
     "iopub.status.idle": "2024-09-20T08:11:49.799514Z",
     "shell.execute_reply": "2024-09-20T08:11:49.798261Z"
    },
    "papermill": {
     "duration": 0.036269,
     "end_time": "2024-09-20T08:11:49.802165",
     "exception": false,
     "start_time": "2024-09-20T08:11:49.765896",
     "status": "completed"
    },
    "tags": []
   },
   "outputs": [
    {
     "name": "stdout",
     "output_type": "stream",
     "text": [
      "Use                   1.000000\n",
      "E                     0.225466\n",
      "Ro                    0.132557\n",
      "G                    -0.014871\n",
      "mu                   -0.055154\n",
      "Sy                   -0.089184\n",
      "Su                   -0.108608\n",
      "Strength_to_Weight   -0.198316\n",
      "Name: Use, dtype: float64\n"
     ]
    }
   ],
   "source": [
    "# [ultimate_tensile_strength, yield_strength, Elastic_Modulus, Sheer_Modulus, Poisson's Ratio, Density]\n",
    "#features = ['Su', 'Sy', 'E', 'G', 'mu', 'Ro']\n",
    "\n",
    "# Example: Creating a new feature from existing data\n",
    "data['Strength_to_Weight'] = data['Su'] / data['Ro']\n",
    "\n",
    "numerical_columns = data.columns[1:]\n",
    "correlation_matrix = data[numerical_columns].corr()\n",
    "print(correlation_matrix['Use'].sort_values(ascending=False))"
   ]
  },
  {
   "cell_type": "code",
   "execution_count": 12,
   "id": "2e457ff7",
   "metadata": {
    "execution": {
     "iopub.execute_input": "2024-09-20T08:11:49.844629Z",
     "iopub.status.busy": "2024-09-20T08:11:49.844179Z",
     "iopub.status.idle": "2024-09-20T08:11:49.860379Z",
     "shell.execute_reply": "2024-09-20T08:11:49.859225Z"
    },
    "papermill": {
     "duration": 0.040092,
     "end_time": "2024-09-20T08:11:49.863170",
     "exception": false,
     "start_time": "2024-09-20T08:11:49.823078",
     "status": "completed"
    },
    "tags": []
   },
   "outputs": [
    {
     "name": "stdout",
     "output_type": "stream",
     "text": [
      "Use                   1.000000\n",
      "E                     0.225466\n",
      "Ro                    0.132557\n",
      "E_to_Ro               0.091626\n",
      "Combined_Modulus      0.071440\n",
      "G                    -0.014871\n",
      "mu                   -0.055154\n",
      "Sy                   -0.089184\n",
      "Su                   -0.108608\n",
      "Sy_to_Ro             -0.157194\n",
      "Strength_to_Weight   -0.198316\n",
      "Name: Use, dtype: float64\n"
     ]
    }
   ],
   "source": [
    "#[ultimate_tensile_strength, yield_strength, Elastic_Modulus, Sheer_Modulus, Poisson's Ratio, Density]\n",
    "features = ['Su', 'Sy', 'E', 'G', 'mu', 'Ro']\n",
    "\n",
    "# Example: Creating a new feature from existing data\n",
    "data['Strength_to_Weight'] = data['Su'] / data['Ro']\n",
    "\n",
    "# Elastic Modulus to Density Ratio\n",
    "data['E_to_Ro'] = data['E'] / data['Ro']\n",
    "\n",
    "# Yield Strength to Density Ratio\n",
    "data['Sy_to_Ro'] = data['Sy'] / data['Ro']\n",
    "\n",
    "# Combined Modulus\n",
    "data['Combined_Modulus'] = data['E'] + data['G']\n",
    "\n",
    "numerical_columns = data.columns[1:]\n",
    "correlation_matrix = data[numerical_columns].corr()\n",
    "print(correlation_matrix['Use'].sort_values(ascending=False))"
   ]
  },
  {
   "cell_type": "markdown",
   "id": "71c7aebb",
   "metadata": {
    "papermill": {
     "duration": 0.019688,
     "end_time": "2024-09-20T08:11:49.902759",
     "exception": false,
     "start_time": "2024-09-20T08:11:49.883071",
     "status": "completed"
    },
    "tags": []
   },
   "source": [
    "# Step 5: Split the Data\n",
    "Split your data into training and testing sets to evaluate your model’s performance."
   ]
  },
  {
   "cell_type": "code",
   "execution_count": 13,
   "id": "04ffc96b",
   "metadata": {
    "execution": {
     "iopub.execute_input": "2024-09-20T08:11:49.944272Z",
     "iopub.status.busy": "2024-09-20T08:11:49.943799Z",
     "iopub.status.idle": "2024-09-20T08:11:49.963756Z",
     "shell.execute_reply": "2024-09-20T08:11:49.962236Z"
    },
    "papermill": {
     "duration": 0.043964,
     "end_time": "2024-09-20T08:11:49.966581",
     "exception": false,
     "start_time": "2024-09-20T08:11:49.922617",
     "status": "completed"
    },
    "tags": []
   },
   "outputs": [
    {
     "name": "stdout",
     "output_type": "stream",
     "text": [
      "Index(['Su', 'Sy', 'E', 'G', 'mu', 'Ro'], dtype='object')\n"
     ]
    }
   ],
   "source": [
    "from sklearn.model_selection import train_test_split\n",
    "\n",
    "data = pd.read_csv('/kaggle/input/material.csv')\n",
    "\n",
    "numerical_columns = data.columns[1:-1]\n",
    "# Define features and target\n",
    "X = data[numerical_columns]\n",
    "y = data['Use']\n",
    "\n",
    "print(X.columns)\n",
    "# Split the data\n",
    "X_train, X_test, y_train, y_test = train_test_split(X, y, test_size=0.2, random_state=42)"
   ]
  },
  {
   "cell_type": "markdown",
   "id": "1059b33f",
   "metadata": {
    "papermill": {
     "duration": 0.021143,
     "end_time": "2024-09-20T08:11:50.009526",
     "exception": false,
     "start_time": "2024-09-20T08:11:49.988383",
     "status": "completed"
    },
    "tags": []
   },
   "source": [
    "# Step 6: Choose a Machine Learning Model\n",
    "Select a machine learning model based on your task. For example, if you’re performing classification, you might choose a logistic regression, decision tree, or random forest.\n",
    "\n",
    "Select the model. Fit the training data to the model"
   ]
  },
  {
   "cell_type": "code",
   "execution_count": 14,
   "id": "e6676db2",
   "metadata": {
    "execution": {
     "iopub.execute_input": "2024-09-20T08:11:50.053419Z",
     "iopub.status.busy": "2024-09-20T08:11:50.052936Z",
     "iopub.status.idle": "2024-09-20T08:11:50.098490Z",
     "shell.execute_reply": "2024-09-20T08:11:50.097186Z"
    },
    "papermill": {
     "duration": 0.071236,
     "end_time": "2024-09-20T08:11:50.101168",
     "exception": false,
     "start_time": "2024-09-20T08:11:50.029932",
     "status": "completed"
    },
    "tags": []
   },
   "outputs": [
    {
     "data": {
      "text/html": [
       "<style>#sk-container-id-1 {color: black;background-color: white;}#sk-container-id-1 pre{padding: 0;}#sk-container-id-1 div.sk-toggleable {background-color: white;}#sk-container-id-1 label.sk-toggleable__label {cursor: pointer;display: block;width: 100%;margin-bottom: 0;padding: 0.3em;box-sizing: border-box;text-align: center;}#sk-container-id-1 label.sk-toggleable__label-arrow:before {content: \"▸\";float: left;margin-right: 0.25em;color: #696969;}#sk-container-id-1 label.sk-toggleable__label-arrow:hover:before {color: black;}#sk-container-id-1 div.sk-estimator:hover label.sk-toggleable__label-arrow:before {color: black;}#sk-container-id-1 div.sk-toggleable__content {max-height: 0;max-width: 0;overflow: hidden;text-align: left;background-color: #f0f8ff;}#sk-container-id-1 div.sk-toggleable__content pre {margin: 0.2em;color: black;border-radius: 0.25em;background-color: #f0f8ff;}#sk-container-id-1 input.sk-toggleable__control:checked~div.sk-toggleable__content {max-height: 200px;max-width: 100%;overflow: auto;}#sk-container-id-1 input.sk-toggleable__control:checked~label.sk-toggleable__label-arrow:before {content: \"▾\";}#sk-container-id-1 div.sk-estimator input.sk-toggleable__control:checked~label.sk-toggleable__label {background-color: #d4ebff;}#sk-container-id-1 div.sk-label input.sk-toggleable__control:checked~label.sk-toggleable__label {background-color: #d4ebff;}#sk-container-id-1 input.sk-hidden--visually {border: 0;clip: rect(1px 1px 1px 1px);clip: rect(1px, 1px, 1px, 1px);height: 1px;margin: -1px;overflow: hidden;padding: 0;position: absolute;width: 1px;}#sk-container-id-1 div.sk-estimator {font-family: monospace;background-color: #f0f8ff;border: 1px dotted black;border-radius: 0.25em;box-sizing: border-box;margin-bottom: 0.5em;}#sk-container-id-1 div.sk-estimator:hover {background-color: #d4ebff;}#sk-container-id-1 div.sk-parallel-item::after {content: \"\";width: 100%;border-bottom: 1px solid gray;flex-grow: 1;}#sk-container-id-1 div.sk-label:hover label.sk-toggleable__label {background-color: #d4ebff;}#sk-container-id-1 div.sk-serial::before {content: \"\";position: absolute;border-left: 1px solid gray;box-sizing: border-box;top: 0;bottom: 0;left: 50%;z-index: 0;}#sk-container-id-1 div.sk-serial {display: flex;flex-direction: column;align-items: center;background-color: white;padding-right: 0.2em;padding-left: 0.2em;position: relative;}#sk-container-id-1 div.sk-item {position: relative;z-index: 1;}#sk-container-id-1 div.sk-parallel {display: flex;align-items: stretch;justify-content: center;background-color: white;position: relative;}#sk-container-id-1 div.sk-item::before, #sk-container-id-1 div.sk-parallel-item::before {content: \"\";position: absolute;border-left: 1px solid gray;box-sizing: border-box;top: 0;bottom: 0;left: 50%;z-index: -1;}#sk-container-id-1 div.sk-parallel-item {display: flex;flex-direction: column;z-index: 1;position: relative;background-color: white;}#sk-container-id-1 div.sk-parallel-item:first-child::after {align-self: flex-end;width: 50%;}#sk-container-id-1 div.sk-parallel-item:last-child::after {align-self: flex-start;width: 50%;}#sk-container-id-1 div.sk-parallel-item:only-child::after {width: 0;}#sk-container-id-1 div.sk-dashed-wrapped {border: 1px dashed gray;margin: 0 0.4em 0.5em 0.4em;box-sizing: border-box;padding-bottom: 0.4em;background-color: white;}#sk-container-id-1 div.sk-label label {font-family: monospace;font-weight: bold;display: inline-block;line-height: 1.2em;}#sk-container-id-1 div.sk-label-container {text-align: center;}#sk-container-id-1 div.sk-container {/* jupyter's `normalize.less` sets `[hidden] { display: none; }` but bootstrap.min.css set `[hidden] { display: none !important; }` so we also need the `!important` here to be able to override the default hidden behavior on the sphinx rendered scikit-learn.org. See: https://github.com/scikit-learn/scikit-learn/issues/21755 */display: inline-block !important;position: relative;}#sk-container-id-1 div.sk-text-repr-fallback {display: none;}</style><div id=\"sk-container-id-1\" class=\"sk-top-container\"><div class=\"sk-text-repr-fallback\"><pre>LogisticRegression()</pre><b>In a Jupyter environment, please rerun this cell to show the HTML representation or trust the notebook. <br />On GitHub, the HTML representation is unable to render, please try loading this page with nbviewer.org.</b></div><div class=\"sk-container\" hidden><div class=\"sk-item\"><div class=\"sk-estimator sk-toggleable\"><input class=\"sk-toggleable__control sk-hidden--visually\" id=\"sk-estimator-id-1\" type=\"checkbox\" checked><label for=\"sk-estimator-id-1\" class=\"sk-toggleable__label sk-toggleable__label-arrow\">LogisticRegression</label><div class=\"sk-toggleable__content\"><pre>LogisticRegression()</pre></div></div></div></div></div>"
      ],
      "text/plain": [
       "LogisticRegression()"
      ]
     },
     "execution_count": 14,
     "metadata": {},
     "output_type": "execute_result"
    }
   ],
   "source": [
    "from sklearn.linear_model import LogisticRegression\n",
    "\n",
    "# Initialize the model\n",
    "logistic_model = LogisticRegression()\n",
    "\n",
    "# Train the model\n",
    "logistic_model.fit(X_train, y_train)"
   ]
  },
  {
   "cell_type": "markdown",
   "id": "b42b4373",
   "metadata": {
    "papermill": {
     "duration": 0.020661,
     "end_time": "2024-09-20T08:11:50.142239",
     "exception": false,
     "start_time": "2024-09-20T08:11:50.121578",
     "status": "completed"
    },
    "tags": []
   },
   "source": [
    "# Evaluate the model\n",
    "\n",
    "Use model.predict() function to test the model on the test data\n",
    "\n",
    "sklearn provides various evaluation metrics to evaluate the performance of the model"
   ]
  },
  {
   "cell_type": "code",
   "execution_count": 15,
   "id": "79ab5642",
   "metadata": {
    "execution": {
     "iopub.execute_input": "2024-09-20T08:11:50.185220Z",
     "iopub.status.busy": "2024-09-20T08:11:50.184758Z",
     "iopub.status.idle": "2024-09-20T08:11:50.715644Z",
     "shell.execute_reply": "2024-09-20T08:11:50.714113Z"
    },
    "papermill": {
     "duration": 0.55494,
     "end_time": "2024-09-20T08:11:50.717737",
     "exception": true,
     "start_time": "2024-09-20T08:11:50.162797",
     "status": "failed"
    },
    "tags": []
   },
   "outputs": [
    {
     "name": "stdout",
     "output_type": "stream",
     "text": [
      "Logistic Regression Accuracy: 0.8778135048231511\n",
      "Logistic Regression Precision: 0.0\n"
     ]
    },
    {
     "ename": "NameError",
     "evalue": "name 'classification_report' is not defined",
     "output_type": "error",
     "traceback": [
      "\u001b[0;31m---------------------------------------------------------------------------\u001b[0m",
      "\u001b[0;31mNameError\u001b[0m                                 Traceback (most recent call last)",
      "Cell \u001b[0;32mIn[15], line 11\u001b[0m\n\u001b[1;32m      9\u001b[0m \u001b[38;5;28mprint\u001b[39m(\u001b[38;5;124mf\u001b[39m\u001b[38;5;124m'\u001b[39m\u001b[38;5;124mLogistic Regression Accuracy: \u001b[39m\u001b[38;5;132;01m{\u001b[39;00mlogistic_accuracy\u001b[38;5;132;01m}\u001b[39;00m\u001b[38;5;124m'\u001b[39m)\n\u001b[1;32m     10\u001b[0m \u001b[38;5;28mprint\u001b[39m(\u001b[38;5;124mf\u001b[39m\u001b[38;5;124m'\u001b[39m\u001b[38;5;124mLogistic Regression Precision: \u001b[39m\u001b[38;5;132;01m{\u001b[39;00mlogistic_precision\u001b[38;5;132;01m}\u001b[39;00m\u001b[38;5;124m'\u001b[39m)\n\u001b[0;32m---> 11\u001b[0m report \u001b[38;5;241m=\u001b[39m \u001b[43mclassification_report\u001b[49m(y_test, logistic_predictions)\n\u001b[1;32m     12\u001b[0m conf_matr \u001b[38;5;241m=\u001b[39m confusion_matrix(y_test, logistic_predictions)\n\u001b[1;32m     13\u001b[0m \u001b[38;5;28mprint\u001b[39m(\u001b[38;5;124mf\u001b[39m\u001b[38;5;124m'\u001b[39m\u001b[38;5;130;01m\\n\u001b[39;00m\u001b[38;5;124mClassification Report:\u001b[39m\u001b[38;5;130;01m\\n\u001b[39;00m\u001b[38;5;132;01m{\u001b[39;00mreport\u001b[38;5;132;01m}\u001b[39;00m\u001b[38;5;124m'\u001b[39m)\n",
      "\u001b[0;31mNameError\u001b[0m: name 'classification_report' is not defined"
     ]
    }
   ],
   "source": [
    "from sklearn.metrics import accuracy_score, precision_score, confusion_matrix\n",
    "\n",
    "# Make predictions\n",
    "logistic_predictions = logistic_model.predict(X_test)\n",
    "\n",
    "# Evaluate the model\n",
    "logistic_accuracy = accuracy_score(y_test, logistic_predictions)   # (ground truth label, predicted label)\n",
    "logistic_precision = precision_score(y_test, logistic_predictions)\n",
    "print(f'Logistic Regression Accuracy: {logistic_accuracy}')\n",
    "print(f'Logistic Regression Precision: {logistic_precision}')\n",
    "report = classification_report(y_test, logistic_predictions)\n",
    "conf_matr = confusion_matrix(y_test, logistic_predictions)\n",
    "print(f'\\nClassification Report:\\n{report}')\n",
    "print(f\"\\nConfusion Matrix\\n{conf_matr}\")"
   ]
  },
  {
   "cell_type": "code",
   "execution_count": null,
   "id": "d6b5e92e",
   "metadata": {
    "execution": {
     "iopub.execute_input": "2024-09-19T14:25:06.332299Z",
     "iopub.status.busy": "2024-09-19T14:25:06.331521Z",
     "iopub.status.idle": "2024-09-19T14:25:06.387920Z",
     "shell.execute_reply": "2024-09-19T14:25:06.386952Z",
     "shell.execute_reply.started": "2024-09-19T14:25:06.332242Z"
    },
    "papermill": {
     "duration": null,
     "end_time": null,
     "exception": null,
     "start_time": null,
     "status": "pending"
    },
    "tags": []
   },
   "outputs": [],
   "source": [
    "# Use class weights to deal with poor performance resulting from class imbalance\n",
    "class_weights = {0: 1.07, 1: 15.0}\n",
    "logistic_model = LogisticRegression(class_weight=class_weights)\n",
    "logistic_model.fit(X_train, y_train)\n",
    "logistic_predictions = logistic_model.predict(X_test)\n",
    "\n",
    "# MODEL EVALUATION\n",
    "logistic_accuracy = accuracy_score(y_test, logistic_predictions)   # (ground truth label, predicted label)\n",
    "logistic_precision = precision_score(y_test, logistic_predictions)\n",
    "print(f'Logistic Regression Accuracy: {logistic_accuracy}')\n",
    "print(f'Logistic Regression Precision: {logistic_precision}')\n",
    "report = classification_report(y_test, logistic_predictions)\n",
    "conf_matr = confusion_matrix(y_test, logistic_predictions)\n",
    "print(f'\\nClassification Report:\\n{report}')\n",
    "print(f\"\\nConfusion Matrix\\n{conf_matr}\")"
   ]
  },
  {
   "cell_type": "markdown",
   "id": "454b39a8",
   "metadata": {
    "papermill": {
     "duration": null,
     "end_time": null,
     "exception": null,
     "start_time": null,
     "status": "pending"
    },
    "tags": []
   },
   "source": [
    "# Support Vector Machine"
   ]
  },
  {
   "cell_type": "code",
   "execution_count": null,
   "id": "80f2d984",
   "metadata": {
    "execution": {
     "iopub.execute_input": "2024-09-19T14:25:06.389637Z",
     "iopub.status.busy": "2024-09-19T14:25:06.389295Z",
     "iopub.status.idle": "2024-09-19T14:25:06.416410Z",
     "shell.execute_reply": "2024-09-19T14:25:06.415376Z",
     "shell.execute_reply.started": "2024-09-19T14:25:06.389600Z"
    },
    "papermill": {
     "duration": null,
     "end_time": null,
     "exception": null,
     "start_time": null,
     "status": "pending"
    },
    "tags": []
   },
   "outputs": [],
   "source": [
    "from sklearn.svm import SVC\n",
    "\n",
    "# Initialize the model\n",
    "svm_model = SVC()\n",
    "\n",
    "# Train the model\n",
    "svm_model.fit(X_train, y_train)\n",
    "\n",
    "# Make predictions\n",
    "svm_predictions = svm_model.predict(X_test)\n",
    "\n",
    "# Evaluate the model\n",
    "svm_accuracy = accuracy_score(y_test, svm_predictions)\n",
    "print(f'SVM Accuracy: {svm_accuracy}')"
   ]
  },
  {
   "cell_type": "code",
   "execution_count": null,
   "id": "1f1e0656",
   "metadata": {
    "execution": {
     "iopub.execute_input": "2024-09-19T14:25:06.417839Z",
     "iopub.status.busy": "2024-09-19T14:25:06.417530Z",
     "iopub.status.idle": "2024-09-19T14:25:06.431812Z",
     "shell.execute_reply": "2024-09-19T14:25:06.430689Z",
     "shell.execute_reply.started": "2024-09-19T14:25:06.417803Z"
    },
    "papermill": {
     "duration": null,
     "end_time": null,
     "exception": null,
     "start_time": null,
     "status": "pending"
    },
    "tags": []
   },
   "outputs": [],
   "source": [
    "from sklearn.tree import DecisionTreeClassifier\n",
    "\n",
    "# Initialize the model\n",
    "tree_model = DecisionTreeClassifier()\n",
    "\n",
    "# Train the model\n",
    "tree_model.fit(X_train, y_train)\n",
    "\n",
    "# Make predictions\n",
    "tree_predictions = tree_model.predict(X_test)\n",
    "\n",
    "# Evaluate the model\n",
    "tree_accuracy = accuracy_score(y_test, tree_predictions)\n",
    "print(f'Decision Tree Accuracy: {tree_accuracy}')\n"
   ]
  },
  {
   "cell_type": "code",
   "execution_count": null,
   "id": "209a802a",
   "metadata": {
    "execution": {
     "iopub.execute_input": "2024-09-19T14:25:06.433682Z",
     "iopub.status.busy": "2024-09-19T14:25:06.433288Z",
     "iopub.status.idle": "2024-09-19T14:25:07.216512Z",
     "shell.execute_reply": "2024-09-19T14:25:07.215384Z",
     "shell.execute_reply.started": "2024-09-19T14:25:06.433640Z"
    },
    "papermill": {
     "duration": null,
     "end_time": null,
     "exception": null,
     "start_time": null,
     "status": "pending"
    },
    "tags": []
   },
   "outputs": [],
   "source": [
    "import matplotlib.pyplot as plt\n",
    "from sklearn.tree import DecisionTreeClassifier, plot_tree\n",
    "\n",
    "# Plot the tree\n",
    "plt.figure(figsize=(20, 10))  # Adjust the size as needed\n",
    "plot_tree(tree_model, filled=False, feature_names=X_train.columns, class_names=['Class 0', 'Class 1'], rounded=True)\n",
    "\n",
    "# Show the plot\n",
    "plt.show()"
   ]
  },
  {
   "cell_type": "code",
   "execution_count": null,
   "id": "49c2ff69",
   "metadata": {
    "execution": {
     "iopub.execute_input": "2024-09-19T14:25:07.218514Z",
     "iopub.status.busy": "2024-09-19T14:25:07.218124Z",
     "iopub.status.idle": "2024-09-19T14:25:07.493097Z",
     "shell.execute_reply": "2024-09-19T14:25:07.491985Z",
     "shell.execute_reply.started": "2024-09-19T14:25:07.218474Z"
    },
    "papermill": {
     "duration": null,
     "end_time": null,
     "exception": null,
     "start_time": null,
     "status": "pending"
    },
    "tags": []
   },
   "outputs": [],
   "source": [
    "from sklearn.ensemble import RandomForestClassifier\n",
    "\n",
    "# Initialize the model\n",
    "model = RandomForestClassifier()\n",
    "\n",
    "# Train the model\n",
    "model.fit(X_train, y_train)    \n",
    "\n",
    "# Make predictions\n",
    "y_pred = model.predict(X_test)\n",
    "\n",
    "# Evaluate the model\n",
    "accuracy = accuracy_score(y_test, y_pred)\n",
    "print(f'Accuracy: {accuracy}')"
   ]
  },
  {
   "cell_type": "markdown",
   "id": "990a4812",
   "metadata": {
    "papermill": {
     "duration": null,
     "end_time": null,
     "exception": null,
     "start_time": null,
     "status": "pending"
    },
    "tags": []
   },
   "source": []
  },
  {
   "cell_type": "markdown",
   "id": "e36986ff",
   "metadata": {
    "papermill": {
     "duration": null,
     "end_time": null,
     "exception": null,
     "start_time": null,
     "status": "pending"
    },
    "tags": []
   },
   "source": [
    "# Predict the 'use' of a new data\n",
    "\n",
    "Prepare the data. Any transformation done on training data must also be done on new_data\n",
    "\n",
    "Predict the 'use' of new_data using model.predict() function"
   ]
  },
  {
   "cell_type": "code",
   "execution_count": null,
   "id": "e8135803",
   "metadata": {
    "execution": {
     "iopub.execute_input": "2024-09-19T14:25:07.495291Z",
     "iopub.status.busy": "2024-09-19T14:25:07.494913Z",
     "iopub.status.idle": "2024-09-19T14:25:07.515178Z",
     "shell.execute_reply": "2024-09-19T14:25:07.513965Z",
     "shell.execute_reply.started": "2024-09-19T14:25:07.495251Z"
    },
    "papermill": {
     "duration": null,
     "end_time": null,
     "exception": null,
     "start_time": null,
     "status": "pending"
    },
    "tags": []
   },
   "outputs": [],
   "source": [
    "import pandas as pd\n",
    "\n",
    "# New instance data\n",
    "new_instance = pd.DataFrame({\n",
    "    'Su': [425],\n",
    "    'Sy': [314],\n",
    "    'E': [100000],\n",
    "    'G': [80000],\n",
    "    'mu': [0.3],\n",
    "    'Ro': [7860]\n",
    "})\n",
    "\n",
    "# Make the prediction\n",
    "prediction = model.predict(new_instance)\n",
    "\n",
    "# Output the prediction\n",
    "print(f'The predicted usage for the new instance is: {prediction}')\n"
   ]
  },
  {
   "cell_type": "markdown",
   "id": "a551638d",
   "metadata": {
    "papermill": {
     "duration": null,
     "end_time": null,
     "exception": null,
     "start_time": null,
     "status": "pending"
    },
    "tags": []
   },
   "source": [
    "# Identifying the most Influential Features"
   ]
  },
  {
   "cell_type": "code",
   "execution_count": null,
   "id": "6f81ef46",
   "metadata": {
    "execution": {
     "iopub.execute_input": "2024-09-19T14:25:07.517036Z",
     "iopub.status.busy": "2024-09-19T14:25:07.516618Z",
     "iopub.status.idle": "2024-09-19T14:25:07.789200Z",
     "shell.execute_reply": "2024-09-19T14:25:07.788054Z",
     "shell.execute_reply.started": "2024-09-19T14:25:07.516994Z"
    },
    "papermill": {
     "duration": null,
     "end_time": null,
     "exception": null,
     "start_time": null,
     "status": "pending"
    },
    "tags": []
   },
   "outputs": [],
   "source": [
    "import pandas as pd\n",
    "import matplotlib.pyplot as plt\n",
    "from sklearn.ensemble import RandomForestClassifier\n",
    "\n",
    "# Train the model\n",
    "model = RandomForestClassifier(random_state=42)\n",
    "model.fit(X_train, y_train)\n",
    "\n",
    "# Get feature importances\n",
    "importances = model.feature_importances_\n",
    "print(importances)"
   ]
  },
  {
   "cell_type": "markdown",
   "id": "25fe9f3b",
   "metadata": {
    "papermill": {
     "duration": null,
     "end_time": null,
     "exception": null,
     "start_time": null,
     "status": "pending"
    },
    "tags": []
   },
   "source": [
    "# Plotting Feature Importance"
   ]
  },
  {
   "cell_type": "code",
   "execution_count": null,
   "id": "7def5115",
   "metadata": {
    "execution": {
     "iopub.execute_input": "2024-09-19T14:25:07.791181Z",
     "iopub.status.busy": "2024-09-19T14:25:07.790701Z",
     "iopub.status.idle": "2024-09-19T14:25:08.080763Z",
     "shell.execute_reply": "2024-09-19T14:25:08.079573Z",
     "shell.execute_reply.started": "2024-09-19T14:25:07.791111Z"
    },
    "papermill": {
     "duration": null,
     "end_time": null,
     "exception": null,
     "start_time": null,
     "status": "pending"
    },
    "tags": []
   },
   "outputs": [],
   "source": [
    "feature_names = X_train.columns\n",
    "\n",
    "# Create a DataFrame for visualization\n",
    "feature_importance_df = pd.DataFrame({'Feature': feature_names, 'Importance': importances})\n",
    "feature_importance_df = feature_importance_df.sort_values(by='Importance', ascending=False)\n",
    "\n",
    "# Plot feature importances\n",
    "plt.figure(figsize=(10, 6))\n",
    "plt.barh(feature_importance_df['Feature'], feature_importance_df['Importance'])\n",
    "plt.xlabel('Importance')\n",
    "plt.ylabel('Feature')\n",
    "plt.title('Feature Importance')\n",
    "plt.gca().invert_yaxis()\n",
    "plt.show()\n"
   ]
  },
  {
   "cell_type": "code",
   "execution_count": null,
   "id": "91fa281e",
   "metadata": {
    "execution": {
     "iopub.execute_input": "2024-09-19T14:25:08.086627Z",
     "iopub.status.busy": "2024-09-19T14:25:08.086152Z",
     "iopub.status.idle": "2024-09-19T14:25:08.320368Z",
     "shell.execute_reply": "2024-09-19T14:25:08.319108Z",
     "shell.execute_reply.started": "2024-09-19T14:25:08.086585Z"
    },
    "papermill": {
     "duration": null,
     "end_time": null,
     "exception": null,
     "start_time": null,
     "status": "pending"
    },
    "tags": []
   },
   "outputs": [],
   "source": [
    "from sklearn.linear_model import LogisticRegression\n",
    "\n",
    "# Train the model\n",
    "logistic_model = LogisticRegression(random_state=42)\n",
    "logistic_model.fit(X_train, y_train)\n",
    "\n",
    "# Get coefficients\n",
    "coefficients = logistic_model.coef_[0]\n",
    "\n",
    "#PLOT INFLUENCE OF FEATURES\n",
    "feature_names = X_train.columns\n",
    "\n",
    "# Create a DataFrame for visualization\n",
    "coefficients_df = pd.DataFrame({'Feature': feature_names, 'Coefficient': coefficients})\n",
    "coefficients_df = coefficients_df.sort_values(by='Coefficient', ascending=False)\n",
    "\n",
    "# Plot coefficients\n",
    "plt.figure(figsize=(10, 6))\n",
    "plt.barh(coefficients_df['Feature'], coefficients_df['Coefficient'])\n",
    "plt.xlabel('Coefficient')\n",
    "plt.ylabel('Feature')\n",
    "plt.title('Feature Coefficients')\n",
    "plt.gca().invert_yaxis()\n",
    "plt.show()\n"
   ]
  },
  {
   "cell_type": "markdown",
   "id": "3c7bcef2",
   "metadata": {
    "papermill": {
     "duration": null,
     "end_time": null,
     "exception": null,
     "start_time": null,
     "status": "pending"
    },
    "tags": []
   },
   "source": [
    "# Neural Networks"
   ]
  },
  {
   "cell_type": "code",
   "execution_count": null,
   "id": "10f3e06a",
   "metadata": {
    "execution": {
     "iopub.execute_input": "2024-09-19T14:29:13.611887Z",
     "iopub.status.busy": "2024-09-19T14:29:13.611322Z",
     "iopub.status.idle": "2024-09-19T14:29:25.690481Z",
     "shell.execute_reply": "2024-09-19T14:29:25.689309Z",
     "shell.execute_reply.started": "2024-09-19T14:29:13.611824Z"
    },
    "papermill": {
     "duration": null,
     "end_time": null,
     "exception": null,
     "start_time": null,
     "status": "pending"
    },
    "tags": []
   },
   "outputs": [],
   "source": [
    "from sklearn.preprocessing import StandardScaler\n",
    "from tensorflow.keras.models import Sequential\n",
    "from tensorflow.keras.layers import Dense\n",
    "\n",
    "# Initialize the model\n",
    "model = Sequential()\n",
    "model.add(Dense(64, input_dim=X_train.shape[1], activation='relu'))\n",
    "model.add(Dense(32, activation='relu'))\n",
    "model.add(Dense(1, activation='sigmoid'))\n",
    "\n",
    "# Compile the model\n",
    "model.compile(optimizer='adam', loss='binary_crossentropy', metrics=['accuracy'])\n",
    "\n",
    "history = model.fit(X_train, y_train, epochs=50, batch_size=10, validation_split=0.2)\n",
    "\n",
    "loss, accuracy = model.evaluate(X_test, y_test)\n",
    "print(f'Test Accuracy: {accuracy:.2f}')"
   ]
  },
  {
   "cell_type": "code",
   "execution_count": null,
   "id": "889f9345",
   "metadata": {
    "execution": {
     "iopub.execute_input": "2024-09-19T14:25:44.045849Z",
     "iopub.status.busy": "2024-09-19T14:25:44.045382Z",
     "iopub.status.idle": "2024-09-19T14:25:44.609285Z",
     "shell.execute_reply": "2024-09-19T14:25:44.608159Z",
     "shell.execute_reply.started": "2024-09-19T14:25:44.045804Z"
    },
    "papermill": {
     "duration": null,
     "end_time": null,
     "exception": null,
     "start_time": null,
     "status": "pending"
    },
    "tags": []
   },
   "outputs": [],
   "source": [
    "import matplotlib.pyplot as plt\n",
    "\n",
    "# Plot training & validation accuracy values\n",
    "plt.figure(figsize=(12, 4))\n",
    "plt.subplot(1, 2, 1)\n",
    "plt.plot(history.history['accuracy'])\n",
    "plt.plot(history.history['val_accuracy'])\n",
    "plt.title('Model accuracy')\n",
    "plt.ylabel('Accuracy')\n",
    "plt.xlabel('Epoch')\n",
    "plt.legend(['Train', 'Validation'], loc='upper left')\n",
    "\n",
    "# Plot training & validation loss values\n",
    "plt.subplot(1, 2, 2)\n",
    "plt.plot(history.history['loss'])\n",
    "plt.plot(history.history['val_loss'])\n",
    "plt.title('Model loss')\n",
    "plt.ylabel('Loss')\n",
    "plt.xlabel('Epoch')\n",
    "plt.legend(['Train', 'Validation'], loc='upper left')\n",
    "\n",
    "plt.show()\n"
   ]
  },
  {
   "cell_type": "code",
   "execution_count": null,
   "id": "2d8eb33c",
   "metadata": {
    "execution": {
     "iopub.execute_input": "2024-09-19T14:33:55.280565Z",
     "iopub.status.busy": "2024-09-19T14:33:55.280093Z",
     "iopub.status.idle": "2024-09-19T14:33:55.290474Z",
     "shell.execute_reply": "2024-09-19T14:33:55.289289Z",
     "shell.execute_reply.started": "2024-09-19T14:33:55.280521Z"
    },
    "papermill": {
     "duration": null,
     "end_time": null,
     "exception": null,
     "start_time": null,
     "status": "pending"
    },
    "tags": []
   },
   "outputs": [],
   "source": [
    "print(data.head())"
   ]
  },
  {
   "cell_type": "code",
   "execution_count": null,
   "id": "312da1f3",
   "metadata": {
    "execution": {
     "iopub.execute_input": "2024-09-19T14:30:53.998933Z",
     "iopub.status.busy": "2024-09-19T14:30:53.997750Z",
     "iopub.status.idle": "2024-09-19T14:30:54.012229Z",
     "shell.execute_reply": "2024-09-19T14:30:54.010802Z",
     "shell.execute_reply.started": "2024-09-19T14:30:53.998869Z"
    },
    "papermill": {
     "duration": null,
     "end_time": null,
     "exception": null,
     "start_time": null,
     "status": "pending"
    },
    "tags": []
   },
   "outputs": [],
   "source": [
    "scaler = StandardScaler()\n",
    "Xs_train = scaler.fit_transform(X_train)\n",
    "Xs_test = scaler.transform(X_test)"
   ]
  },
  {
   "cell_type": "code",
   "execution_count": null,
   "id": "30cc62b2",
   "metadata": {
    "execution": {
     "iopub.execute_input": "2024-09-19T14:31:31.173910Z",
     "iopub.status.busy": "2024-09-19T14:31:31.173436Z",
     "iopub.status.idle": "2024-09-19T14:31:44.104615Z",
     "shell.execute_reply": "2024-09-19T14:31:44.103191Z",
     "shell.execute_reply.started": "2024-09-19T14:31:31.173864Z"
    },
    "papermill": {
     "duration": null,
     "end_time": null,
     "exception": null,
     "start_time": null,
     "status": "pending"
    },
    "tags": []
   },
   "outputs": [],
   "source": [
    "history = model.fit(Xs_train, y_train, epochs=50, batch_size=10, validation_split=0.2)\n",
    "\n",
    "loss, accuracy = model.evaluate(Xs_test, y_test)\n",
    "print(\"Accuracy \", accuracy)\n",
    "\n",
    "# Plot training & validation accuracy values\n",
    "plt.figure(figsize=(12, 4))\n",
    "plt.subplot(1, 2, 1)\n",
    "plt.plot(history.history['accuracy'])\n",
    "plt.plot(history.history['val_accuracy'])\n",
    "plt.title('Model accuracy')\n",
    "plt.ylabel('Accuracy')\n",
    "plt.xlabel('Epoch')\n",
    "plt.legend(['Train', 'Validation'], loc='upper left')\n",
    "\n",
    "# Plot training & validation loss values\n",
    "plt.subplot(1, 2, 2)\n",
    "plt.plot(history.history['loss'])\n",
    "plt.plot(history.history['val_loss'])\n",
    "plt.title('Model loss')\n",
    "plt.ylabel('Loss')\n",
    "plt.xlabel('Epoch')\n",
    "plt.legend(['Train', 'Validation'], loc='upper left')\n",
    "\n",
    "plt.show()"
   ]
  }
 ],
 "metadata": {
  "kaggle": {
   "accelerator": "none",
   "dataSources": [
    {
     "datasetId": 3113294,
     "sourceId": 5411884,
     "sourceType": "datasetVersion"
    }
   ],
   "dockerImageVersionId": 30761,
   "isGpuEnabled": false,
   "isInternetEnabled": false,
   "language": "python",
   "sourceType": "notebook"
  },
  "kernelspec": {
   "display_name": "Python 3",
   "language": "python",
   "name": "python3"
  },
  "language_info": {
   "codemirror_mode": {
    "name": "ipython",
    "version": 3
   },
   "file_extension": ".py",
   "mimetype": "text/x-python",
   "name": "python",
   "nbconvert_exporter": "python",
   "pygments_lexer": "ipython3",
   "version": "3.10.14"
  },
  "papermill": {
   "default_parameters": {},
   "duration": 12.120815,
   "end_time": "2024-09-20T08:11:51.564395",
   "environment_variables": {},
   "exception": true,
   "input_path": "__notebook__.ipynb",
   "output_path": "__notebook__.ipynb",
   "parameters": {},
   "start_time": "2024-09-20T08:11:39.443580",
   "version": "2.6.0"
  }
 },
 "nbformat": 4,
 "nbformat_minor": 5
}
